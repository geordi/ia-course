{
 "cells": [
  {
   "cell_type": "markdown",
   "metadata": {},
   "source": [
    "# Back Propagation Neural Network with PyTorch Deep Learning Framework\n",
    "\n",
    "In this lab, you will implement a previously implemented Back Propagarion Neural Network (BPNN) in one of the established deep learning frameworks. The framework of our choise is [Pytorch](https://pytorch.org). The other, and even more popular, framework is [TensorFlow](https://tensorflow.org), but it is more focused on production and manipulation with raw data, which will be our case, is more tedious. Of course, if you would like to use it or any other framework, you are welcome to do so.\n",
    "\n",
    "## Installation\n",
    "\n",
    "At the university, we would use Linux with Python installed. In your own environment, please follow the [installation instruction](https://pytorch.org/get-started/locally/) for your platform. I personally prefer to use `pip` as package manager. For me, it is easier to install.\n",
    "\n",
    "### Jupyter Notebook\n",
    "\n",
    "To be able to use this Jupyter Notebook file, you have install `jupyter` and then run `jupyter-notebook` from command line next to the `ipynb` file. If you want more mature environment, you can install `jupyterlab` and enjoy.\n",
    "\n",
    "### Downloading Souce Code\n",
    "\n",
    "To download this notebook in a form of Python file, just click File -> Download as -> Python (.py)\n",
    "\n",
    "\n",
    "## How to use PyTorch\n",
    "\n",
    "There are nice tutorials with PyTourch available in [PyTorch Notebooks](https://github.com/dair-ai/pytorch_notebooks) or [Deep Learning (with PyTorch)](https://github.com/Atcold/pytorch-Deep-Learning).\n",
    "\n",
    "I recomend trying these tutorials (these asre just links to [PyTorch Notebooks](https://github.com/dair-ai/pytorch_notebooks):\n",
    "\n",
    "- [PyTorch Hello World](https://medium.com/dair-ai/a-first-shot-at-deep-learning-with-pytorch-4a8252d30c75?sk=729868741e9809dc3bba6e28a4d7af10)\n",
    "\n",
    "- [A Gentle Introduction to PyTorch 1.2](https://medium.com/dair-ai/pytorch-1-2-introduction-guide-f6fa9bb7597c)\n",
    "\n",
    "- [A Simple Neural Network from Scratch with PyTorch and Google Colab](https://medium.com/dair-ai/a-simple-neural-network-from-scratch-with-pytorch-and-google-colab-c7f3830618e0)\n",
    "\n",
    "## Your Task\n",
    "\n",
    "Your task is to implement a back propagation neural network in PyTorch framework.\n",
    "\n",
    "A good source of information can be tutorial mentioned above or [PyTorch documentation](https://pytorch.org/docs/stable/index.html), namely [torch.tensor module](https://pytorch.org/docs/stable/tensors.html), [torch.nn module](https://pytorch.org/docs/stable/nn.html), [torch.nn.functional module](https://pytorch.org/docs/stable/nn.functional.html)."
   ]
  },
  {
   "cell_type": "code",
   "execution_count": 1,
   "metadata": {},
   "outputs": [],
   "source": [
    "import torch\n",
    "import torch.nn as nn\n",
    "import torch.optim as optim\n",
    "from torch.utils.data import Dataset, DataLoader"
   ]
  },
  {
   "cell_type": "markdown",
   "metadata": {},
   "source": [
    "### Dataset\n",
    "\n",
    "We need a dataset. It is split into training set and testing set."
   ]
  },
  {
   "cell_type": "code",
   "execution_count": 2,
   "metadata": {},
   "outputs": [],
   "source": [
    "train_data = ((0.111, 0.935), (0.155, 0.958), (0.151, 0.960), (0.153, 0.955),  # # - square\n",
    "              (0.715, 0.924), (0.758, 0.964), (0.725, 0.935), (0.707, 0.913),  # * - star\n",
    "              (0.167, 0.079), (0.215, 0.081), (0.219, 0.075), (0.220, 0.078),) # ## - rectangle\n",
    "\n",
    "train_labels = ((1.0, 0.0, 0.0), (1.0, 0.0, 0.0), (1.0, 0.0, 0.0), (1.0, 0.0, 0.0), # # - square\n",
    "              (0.0, 1.0, 0.0), (0.0, 1.0, 0.0), (0.0, 1.0, 0.0), (0.0, 1.0, 0.0),   # * - star\n",
    "              (0.0, 0.0, 1.0), (0.0, 0.0, 1.0), (0.0, 0.0, 1.0), (0.0, 0.0, 1.0),)  # ## - rectangle\n",
    "\n",
    "test_data = () # fill your own feature vectors from test images"
   ]
  },
  {
   "cell_type": "markdown",
   "metadata": {},
   "source": [
    "### Dataset loader\n",
    "\n",
    "Create a class that is able to provide us with data from our extracted features."
   ]
  },
  {
   "cell_type": "code",
   "execution_count": 3,
   "metadata": {},
   "outputs": [],
   "source": [
    "class MyDataset(Dataset):\n",
    "  def __init__(self, features, labels):\n",
    "        self.labels = labels\n",
    "        self.features = features\n",
    "\n",
    "  def __len__(self):\n",
    "        return len(self.features)\n",
    "\n",
    "  def __getitem__(self, index):\n",
    "        X = self.features[index]\n",
    "        y = self.labels[index]\n",
    "\n",
    "        return X, y"
   ]
  },
  {
   "cell_type": "markdown",
   "metadata": {},
   "source": [
    "### Feed Forward Neural Network\n",
    "\n",
    "Here you have to define a neural network model. The configuration can be the same as in your own implementation of neural network. You mainly use [torch.nn module](https://pytorch.org/docs/stable/nn.html) or [torch.nn.functional module](https://pytorch.org/docs/stable/nn.functional.html)."
   ]
  },
  {
   "cell_type": "code",
   "execution_count": 4,
   "metadata": {},
   "outputs": [],
   "source": [
    "class FeedforwardNeuralNetModel(torch.nn.Module):\n",
    "    def __init__(self):\n",
    "        pass\n",
    "\n",
    "    # create forward method"
   ]
  },
  {
   "cell_type": "markdown",
   "metadata": {},
   "source": [
    "### Training Your Model\n",
    "\n",
    "Write the code for training your network here. You definitely need [PyTorch Algorithms](https://pytorch.org/docs/stable/optim.html#algorithms) namely [`zero_grad()`](https://pytorch.org/docs/stable/optim.html#torch.optim.Optimizer.zero_grad), [`step()`](https://pytorch.org/docs/stable/optim.html#taking-an-optimization-step) and [Autograd's](https://pytorch.org/docs/stable/autograd.html) [`backward()`](https://pytorch.org/docs/stable/autograd.html#torch.autograd.backward)"
   ]
  },
  {
   "cell_type": "code",
   "execution_count": 5,
   "metadata": {},
   "outputs": [],
   "source": [
    "def train(dataloader, model):\n",
    "    model.train()"
   ]
  },
  {
   "cell_type": "markdown",
   "metadata": {},
   "source": [
    "### Validating Your Model"
   ]
  },
  {
   "cell_type": "code",
   "execution_count": 6,
   "metadata": {},
   "outputs": [],
   "source": [
    "def validation(model):\n",
    "    model.eval()"
   ]
  },
  {
   "cell_type": "markdown",
   "metadata": {},
   "source": [
    "### Running\n",
    "\n",
    "Running the whole \"thing\"."
   ]
  },
  {
   "cell_type": "code",
   "execution_count": 7,
   "metadata": {},
   "outputs": [],
   "source": [
    "tensor_x = torch.stack([torch.Tensor(i) for i in train_data])\n",
    "tensor_y = torch.stack([torch.Tensor(i) for i in train_labels])    \n",
    "\n",
    "dataset_train = MyDataset(tensor_x, tensor_y)\n",
    "\n",
    "dataloader_train = DataLoader(dataset_train, batch_size=4, shuffle=True)\n",
    "\n",
    "# create model\n",
    "\n",
    "#train(dataloader_train, model)\n",
    "#validation(model)"
   ]
  }
 ],
 "metadata": {
  "kernelspec": {
   "display_name": "Python 3",
   "language": "python",
   "name": "python3"
  },
  "language_info": {
   "codemirror_mode": {
    "name": "ipython",
    "version": 3
   },
   "file_extension": ".py",
   "mimetype": "text/x-python",
   "name": "python",
   "nbconvert_exporter": "python",
   "pygments_lexer": "ipython3",
   "version": "3.6.9"
  }
 },
 "nbformat": 4,
 "nbformat_minor": 4
}
