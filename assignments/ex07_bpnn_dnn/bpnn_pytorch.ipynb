{
 "cells": [
  {
   "cell_type": "markdown",
   "metadata": {},
   "source": [
    "# Back Propagation Neural Network with PyTorch Deep Learning Framework\n",
    "\n",
    "In this lab, you will implement a previously implemented Back Propagarion Neural Network (BPNN) in one of the established deep learning frameworks. The framework of our choise is [Pytorch](https://pytorch.org). The other, and even more popular, framework is [TensorFlow](https://tensorflow.org), but it is more focused on production and manipulation with raw data, which will be our case, is more tedious. Of course, if you would like to use it or any other framework, you are welcome to do so.\n",
    "\n",
    "## Installation\n",
    "\n",
    "At the university, we would use Linux with Python installed. In your own environment, please follow the [installation instruction](https://pytorch.org/get-started/locally/) for your platform. I personally prefer to use `pip` as package manager. For me, it is easier to install.\n",
    "\n",
    "### Jupyter Notebook\n",
    "\n",
    "To be able to use this Jupyter Notebook file, you have install `jupyter` and then run `jupyter-notebook` from command line next to the \n",
    "\n",
    "## How to use PyTorch\n",
    "\n",
    "There are nice tutorials with PyTourch available in [PyTorch Notebooks](https://github.com/dair-ai/pytorch_notebooks) or [Deep Learning (with PyTorch)](https://github.com/Atcold/pytorch-Deep-Learning).\n",
    "\n"
   ]
  },
  {
   "cell_type": "code",
   "execution_count": 1,
   "metadata": {},
   "outputs": [],
   "source": [
    "import torch\n",
    "import torch.nn as nn\n",
    "import torch.optim as optim\n",
    "from torch.utils.data import Dataset, DataLoader"
   ]
  },
  {
   "cell_type": "code",
   "execution_count": 8,
   "metadata": {},
   "outputs": [],
   "source": [
    "train_data = ((0.111, 0.935), (0.155, 0.958), (0.151, 0.960), (0.153, 0.955),  # # - square\n",
    "              (0.715, 0.924), (0.758, 0.964), (0.725, 0.935), (0.707, 0.913),  # * - star\n",
    "              (0.167, 0.079), (0.215, 0.081), (0.219, 0.075), (0.220, 0.078),) # ## - rectangle\n",
    "\n",
    "train_labels = ((1.0, 0.0, 0.0), (1.0, 0.0, 0.0), (1.0, 0.0, 0.0), (1.0, 0.0, 0.0),\n",
    "              (0.0, 1.0, 0.0), (0.0, 1.0, 0.0), (0.0, 1.0, 0.0), (0.0, 1.0, 0.0),\n",
    "              (0.0, 0.0, 1.0), (0.0, 0.0, 1.0), (0.0, 0.0, 1.0), (0.0, 0.0, 1.0),)\n",
    "\n",
    "test_data = ((0.111, 0.935), (0.155, 0.958), (0.151, 0.960), (0.153, 0.955),  # #\n",
    "              (0.715, 0.924), (0.758, 0.964), (0.725, 0.935), (0.707, 0.913),  # *\n",
    "              (0.167, 0.079), (0.215, 0.081), (0.219, 0.075), (0.220, 0.078),) # ##"
   ]
  },
  {
   "cell_type": "code",
   "execution_count": 3,
   "metadata": {},
   "outputs": [],
   "source": [
    "class MyDataset(Dataset):\n",
    "  def __init__(self, features, labels):\n",
    "        self.labels = labels\n",
    "        self.features = features\n",
    "\n",
    "  def __len__(self):\n",
    "        return len(self.features)\n",
    "\n",
    "  def __getitem__(self, index):\n",
    "        X = self.features[index]\n",
    "        y = self.labels[index]\n",
    "\n",
    "        return X, y"
   ]
  },
  {
   "cell_type": "code",
   "execution_count": 4,
   "metadata": {},
   "outputs": [],
   "source": [
    "class FeedforwardNeuralNetModel(torch.nn.Module):\n",
    "    def __init__(self):\n",
    "        pass\n",
    "\n",
    "    \"\"\" \n",
    "    create forward method\n",
    "    \"\"\""
   ]
  },
  {
   "cell_type": "code",
   "execution_count": 5,
   "metadata": {},
   "outputs": [],
   "source": [
    "def train(dataloader, model):\n",
    "    model.train()\n",
    "    pass"
   ]
  },
  {
   "cell_type": "code",
   "execution_count": 6,
   "metadata": {},
   "outputs": [],
   "source": [
    "def validation(model):\n",
    "    model.eval()\n",
    "    pass"
   ]
  },
  {
   "cell_type": "code",
   "execution_count": 7,
   "metadata": {},
   "outputs": [
    {
     "data": {
      "text/plain": [
       "' \\ncreate model\\n'"
      ]
     },
     "execution_count": 7,
     "metadata": {},
     "output_type": "execute_result"
    }
   ],
   "source": [
    "tensor_x = torch.stack([torch.Tensor(i) for i in train_data])\n",
    "tensor_y = torch.stack([torch.Tensor(i) for i in train_labels])    \n",
    "\n",
    "dataset_train = MyDataset(tensor_x, tensor_y)\n",
    "\n",
    "dataloader_train = DataLoader(dataset_train, batch_size=4, shuffle=True)\n",
    "\n",
    "\"\"\" \n",
    "create model\n",
    "\"\"\"\n",
    "\n",
    "#train(dataloader_train, model)\n",
    "#validation(model)"
   ]
  },
  {
   "cell_type": "code",
   "execution_count": null,
   "metadata": {},
   "outputs": [],
   "source": []
  }
 ],
 "metadata": {
  "kernelspec": {
   "display_name": "Python 3",
   "language": "python",
   "name": "python3"
  },
  "language_info": {
   "codemirror_mode": {
    "name": "ipython",
    "version": 3
   },
   "file_extension": ".py",
   "mimetype": "text/x-python",
   "name": "python",
   "nbconvert_exporter": "python",
   "pygments_lexer": "ipython3",
   "version": "3.6.9"
  }
 },
 "nbformat": 4,
 "nbformat_minor": 4
}
